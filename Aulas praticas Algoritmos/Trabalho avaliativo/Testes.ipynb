{
 "cells": [
  {
   "cell_type": "code",
   "execution_count": 5,
   "metadata": {},
   "outputs": [
    {
     "name": "stdout",
     "output_type": "stream",
     "text": [
      "AP\n"
     ]
    }
   ],
   "source": [
    "x = 'AP'\n",
    "if x == 'AP':\n",
    "    print(x)"
   ]
  },
  {
   "cell_type": "code",
   "execution_count": 12,
   "metadata": {},
   "outputs": [
    {
     "name": "stdout",
     "output_type": "stream",
     "text": [
      "O valor por esse serviço é: 0.2\n"
     ]
    }
   ],
   "source": [
    "servico = input('DIG,ICO,IPB,FOT')\n",
    "if (servico == 'DIG'):\n",
    "    valor_servico = (1.10)\n",
    "                \n",
    "\n",
    "elif (servico == 'ICO'):\n",
    "    valor_servico = 1\n",
    "                \n",
    "\n",
    "elif (servico == 'IPB'):\n",
    "    valor_servico = 0.4\n",
    "                \n",
    "\n",
    "elif (servico == 'FOT'):\n",
    "    valor_servico = 0.2\n",
    "\n",
    "print (f'O valor por esse serviço é: {valor_servico}')\n",
    "                "
   ]
  },
  {
   "cell_type": "code",
   "execution_count": 3,
   "metadata": {},
   "outputs": [
    {
     "name": "stdout",
     "output_type": "stream",
     "text": [
      "Somatório entre 5 e 10 é 45.\n"
     ]
    }
   ],
   "source": [
    "def valida_int(pergunta, min, max):\n",
    "    x = int(input(pergunta))\n",
    "    while ((x < min) or (x > max)):\n",
    "        x = int(input(pergunta))\n",
    "    return x\n",
    "def soma_intervalo(inicio, fim):\n",
    "    soma = 0\n",
    "    i = inicio\n",
    "    while i <= fim:\n",
    "        soma += i\n",
    "        i = i + 1\n",
    "    return soma\n",
    "#Programa principal\n",
    "x = valida_int('Digite um valor inteiro e positivo: ', 1, 99999)\n",
    "y = valida_int('Digite um segundo valor inteiro e positivo: ', 1, \n",
    "99999)\n",
    "print(f'Somatório entre {x} e {y} é {soma_intervalo(x, y)}.')\n"
   ]
  },
  {
   "cell_type": "code",
   "execution_count": null,
   "metadata": {},
   "outputs": [],
   "source": [
    "fruits = 'Amigos do esquadrao de forca'\n",
    "while True:\n",
    "    if fruits not in 'e':\n",
    "        print('Analise')\n",
    "    continue"
   ]
  },
  {
   "cell_type": "code",
   "execution_count": 13,
   "metadata": {},
   "outputs": [
    {
     "name": "stdout",
     "output_type": "stream",
     "text": [
      "yes\n"
     ]
    }
   ],
   "source": [
    "fruits = [\"apple\", \"banana\", \"cherry\"]\n",
    "\n",
    "if \"p\" in fruits[0]:\n",
    "  print(\"yes\")"
   ]
  }
 ],
 "metadata": {
  "kernelspec": {
   "display_name": "Python 3",
   "language": "python",
   "name": "python3"
  },
  "language_info": {
   "codemirror_mode": {
    "name": "ipython",
    "version": 3
   },
   "file_extension": ".py",
   "mimetype": "text/x-python",
   "name": "python",
   "nbconvert_exporter": "python",
   "pygments_lexer": "ipython3",
   "version": "3.12.1"
  }
 },
 "nbformat": 4,
 "nbformat_minor": 2
}
