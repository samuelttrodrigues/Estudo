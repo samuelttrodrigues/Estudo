{
 "cells": [
  {
   "cell_type": "code",
   "execution_count": 1,
   "metadata": {},
   "outputs": [],
   "source": [
    "def realce(s1):\n",
    "    print('|','__'*10,'|')\n",
    "    print('|','__'*10,'|')\n",
    "    print(s1)\n",
    "    print('|','__'*10,'|')\n",
    "    print('|','__'*10,'|')"
   ]
  },
  {
   "cell_type": "code",
   "execution_count": 4,
   "metadata": {},
   "outputs": [
    {
     "name": "stdout",
     "output_type": "stream",
     "text": [
      "| ____________________ |\n",
      "| ____________________ |\n",
      "          MENU\n",
      "| ____________________ |\n",
      "| ____________________ |\n"
     ]
    }
   ],
   "source": [
    "realce('          MENU')"
   ]
  },
  {
   "cell_type": "code",
   "execution_count": 5,
   "metadata": {},
   "outputs": [],
   "source": [
    "def sub2(x,y):\n",
    "    res = x - y\n",
    "    print(res)"
   ]
  },
  {
   "cell_type": "code",
   "execution_count": 6,
   "metadata": {},
   "outputs": [
    {
     "name": "stdout",
     "output_type": "stream",
     "text": [
      "6\n"
     ]
    }
   ],
   "source": [
    "sub2(11,5)"
   ]
  },
  {
   "cell_type": "code",
   "execution_count": 8,
   "metadata": {},
   "outputs": [],
   "source": [
    "def soma3(x = 0,y = 0,z = 0):\n",
    "    res = x + y + z\n",
    "    print(res)"
   ]
  },
  {
   "cell_type": "code",
   "execution_count": null,
   "metadata": {},
   "outputs": [],
   "source": [
    "soma3(1,2,3)\n",
    "soma3(1,2) #! z foi omitido\n",
    "soma3(1)   #! y,z foram omitidos\n",
    "soma3()    #! x,y,z foram omitidos"
   ]
  },
  {
   "cell_type": "code",
   "execution_count": 12,
   "metadata": {},
   "outputs": [],
   "source": [
    "def borda (s1):\n",
    "    tam = len(s1)\n",
    "    if tam:\n",
    "        print('+','-' * tam,'+')\n",
    "        print('|',s1,'|')\n",
    "        print('+','-' * tam,'+')"
   ]
  },
  {
   "cell_type": "code",
   "execution_count": 14,
   "metadata": {},
   "outputs": [
    {
     "name": "stdout",
     "output_type": "stream",
     "text": [
      "+ ----------- +\n",
      "| Olá, mundo! |\n",
      "+ ----------- +\n",
      "+ ----------------------------- +\n",
      "| Mas que baixaria isso aqui :D |\n",
      "+ ----------------------------- +\n"
     ]
    }
   ],
   "source": [
    "borda('Olá, mundo!')\n",
    "borda('Mas que baixaria isso aqui :D')"
   ]
  },
  {
   "cell_type": "markdown",
   "metadata": {},
   "source": []
  },
  {
   "cell_type": "markdown",
   "metadata": {},
   "source": []
  },
  {
   "cell_type": "code",
   "execution_count": 4,
   "metadata": {},
   "outputs": [
    {
     "name": "stdout",
     "output_type": "stream",
     "text": [
      "12\n"
     ]
    }
   ],
   "source": [
    "def omelete():\n",
    "    print(ovos)\n",
    "\n",
    "ovos = 12\n",
    "omelete()  "
   ]
  },
  {
   "cell_type": "code",
   "execution_count": 1,
   "metadata": {},
   "outputs": [
    {
     "name": "stdout",
     "output_type": "stream",
     "text": [
      "Ovos =  6\n",
      "Ovos =  12\n",
      "Ovos do bacon =  6\n",
      "Ovos global =  2\n"
     ]
    }
   ],
   "source": [
    "def omelete ():\n",
    "    ovos = 12\n",
    "    print('Ovos = ', ovos)\n",
    "\n",
    "def bacon():\n",
    "    ovos = 6\n",
    "    print('Ovos = ', ovos)\n",
    "    omelete()\n",
    "    print('Ovos do bacon = ', ovos)\n",
    "\n",
    "ovos = 2 #Var Global\n",
    "bacon()\n",
    "print('Ovos global = ', ovos)"
   ]
  },
  {
   "cell_type": "code",
   "execution_count": 2,
   "metadata": {},
   "outputs": [
    {
     "name": "stdout",
     "output_type": "stream",
     "text": [
      "12\n"
     ]
    }
   ],
   "source": [
    "def omelete():\n",
    "    global ovos\n",
    "    ovos = 6\n",
    "\n",
    "ovos = 12\n",
    "omelete()\n",
    "print(ovos)"
   ]
  },
  {
   "cell_type": "markdown",
   "metadata": {},
   "source": [
    "Retorno de valores em funções"
   ]
  },
  {
   "cell_type": "code",
   "execution_count": 3,
   "metadata": {},
   "outputs": [],
   "source": [
    "def soma3 (x = 0, y = 0, z = 0):\n",
    "    res = x + y + z\n",
    "    return res"
   ]
  },
  {
   "cell_type": "code",
   "execution_count": 7,
   "metadata": {},
   "outputs": [
    {
     "name": "stdout",
     "output_type": "stream",
     "text": [
      "6\n",
      "8\n"
     ]
    }
   ],
   "source": [
    "#Forma complicada de retornar valores\n",
    "retornado = soma3(1,2,3)\n",
    "print(retornado)\n",
    "\n",
    "#! Forma simplificada\n",
    "print(soma3(2,6))"
   ]
  },
  {
   "cell_type": "markdown",
   "metadata": {},
   "source": [
    "Escreva uma função para validar uma string"
   ]
  },
  {
   "cell_type": "code",
   "execution_count": 10,
   "metadata": {},
   "outputs": [
    {
     "name": "stdout",
     "output_type": "stream",
     "text": [
      "Você digitou a string: [ kkkkkkkkkkkkkkkkkkkkkk ]. \n",
      " Dado Válido. Encerrando o programa...\n"
     ]
    }
   ],
   "source": [
    "def valida_string(pergunta, min, max):\n",
    "    s1 = input(pergunta)\n",
    "    tam = len(s1)\n",
    "    while ((tam < min) or (tam > max)):\n",
    "        s1 = input(pergunta)\n",
    "        tam = len(s1)\n",
    "    return s1\n",
    "\n",
    "x = valida_string('Digite uma string: ', 10, 30)\n",
    "print('Você digitou a string: [ {} ]. \\n Dado Válido. Encerrando o programa...'.format(x))"
   ]
  },
  {
   "cell_type": "markdown",
   "metadata": {},
   "source": [
    "Recursos avançados com funções"
   ]
  },
  {
   "cell_type": "markdown",
   "metadata": {},
   "source": [
    "Contornar os erros de zero division e value error"
   ]
  },
  {
   "cell_type": "code",
   "execution_count": 11,
   "metadata": {},
   "outputs": [
    {
     "name": "stdout",
     "output_type": "stream",
     "text": [
      "Oops! Número inválido. Tente novamente....\n"
     ]
    }
   ],
   "source": [
    "while True:\n",
    "    try:\n",
    "        x = int(input('Por favor digite um número: '))\n",
    "        break\n",
    "    except ValueError:\n",
    "        print('Oops! Número inválido. Tente novamente....')"
   ]
  },
  {
   "cell_type": "code",
   "execution_count": null,
   "metadata": {},
   "outputs": [],
   "source": [
    "i = 0 \n",
    "while True:\n",
    "    try:\n",
    "        nome = input('Por favor digite seu nome: ')\n",
    "        ind = int(input('Digite um índice do seu nome digitado: '))\n",
    "        print(nome[ind])\n",
    "        break\n",
    "    except ValueError:\n",
    "        print('Oops! Nome inválido. Tente novamente...')\n",
    "    except IndexError:\n",
    "        print('Oops! Índice inválido. Tente novamente...')\n",
    "    finally:\n",
    "        print(f'Tentativa {i}')\n",
    "        i += 1"
   ]
  },
  {
   "cell_type": "code",
   "execution_count": 14,
   "metadata": {},
   "outputs": [
    {
     "name": "stdout",
     "output_type": "stream",
     "text": [
      "Ooops! Erro de divisão por zero...\n",
      "Executará sempre!\n",
      "None\n"
     ]
    }
   ],
   "source": [
    "def div():\n",
    "    try:\n",
    "        num1 = int(input('Digite um número: '))\n",
    "        num2 = int(input('Digite um número: '))\n",
    "        res = num1/num2\n",
    "    except ZeroDivisionError:\n",
    "        print('Ooops! Erro de divisão por zero...')\n",
    "    except:    #!Except genérico para erros que a gnt n conhece kk\n",
    "        print('Algo de errado aconteceu')\n",
    "    else:\n",
    "        return res\n",
    "    finally:   #* O Finally SEMPRE sera EXECUTADO. INDEPENDENTE \n",
    "        print('Executará sempre!')\n",
    "\n",
    "print(div())"
   ]
  },
  {
   "cell_type": "markdown",
   "metadata": {},
   "source": [
    "Funções lambda"
   ]
  },
  {
   "cell_type": "code",
   "execution_count": 16,
   "metadata": {},
   "outputs": [
    {
     "name": "stdout",
     "output_type": "stream",
     "text": [
      "81\n"
     ]
    }
   ],
   "source": [
    "res = lambda x: x * x\n",
    "print (res(int(input('Digite seu numero'))))"
   ]
  },
  {
   "cell_type": "markdown",
   "metadata": {},
   "source": [
    "Faça uma função lambda que recebe dosi valores numéricos como parâmetro. Ao primeiro valor, sempre some 5. Em seguida, multiplique ambos e retorne oresultado"
   ]
  },
  {
   "cell_type": "code",
   "execution_count": 18,
   "metadata": {},
   "outputs": [
    {
     "name": "stdout",
     "output_type": "stream",
     "text": [
      "30\n"
     ]
    }
   ],
   "source": [
    "res = lambda a, b: (a + 5) * b\n",
    "print(res(int(input('Input A')), int(input('Input B'))))"
   ]
  }
 ],
 "metadata": {
  "kernelspec": {
   "display_name": "Python 3",
   "language": "python",
   "name": "python3"
  },
  "language_info": {
   "codemirror_mode": {
    "name": "ipython",
    "version": 3
   },
   "file_extension": ".py",
   "mimetype": "text/x-python",
   "name": "python",
   "nbconvert_exporter": "python",
   "pygments_lexer": "ipython3",
   "version": "3.12.1"
  }
 },
 "nbformat": 4,
 "nbformat_minor": 2
}
