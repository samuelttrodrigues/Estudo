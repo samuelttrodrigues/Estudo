{
 "cells": [
  {
   "cell_type": "code",
   "execution_count": null,
   "metadata": {},
   "outputs": [],
   "source": [
    "x = 1\n",
    "while (x <= 5): # !atenção à condição do while!\n",
    "    print(x)\n",
    "    x = x + 1   # *iterador*"
   ]
  },
  {
   "cell_type": "markdown",
   "metadata": {},
   "source": [
    "Leitura do while : se x for menor que 5 printa o x. Executa o código ( x = x + 1) e volta para o começo do bloco de repetição "
   ]
  },
  {
   "cell_type": "code",
   "execution_count": 4,
   "metadata": {},
   "outputs": [
    {
     "data": {
      "text/plain": [
       "0"
      ]
     },
     "execution_count": 4,
     "metadata": {},
     "output_type": "execute_result"
    }
   ],
   "source": [
    "i = 4\n",
    "x = i % 2\n",
    "x"
   ]
  },
  {
   "cell_type": "markdown",
   "metadata": {},
   "source": [
    "-------------------------------------"
   ]
  },
  {
   "cell_type": "code",
   "execution_count": null,
   "metadata": {},
   "outputs": [],
   "source": [
    "for i in range (0,11,1):\n",
    "    print(f'\\nTábuada do {i}\\n')\n",
    "    for e in range (0,11,1):\n",
    "        print(f'{i} x {e} = {i * e}')\n",
    "        e += 1\n",
    "    i += 1"
   ]
  },
  {
   "cell_type": "code",
   "execution_count": null,
   "metadata": {},
   "outputs": [],
   "source": [
    "tab = 1\n",
    "while (tab <= 10):\n",
    "    print(f'\\nTábuada do {tab}\\n')\n",
    "    for z in range (0,11,1):\n",
    "        print (f'{tab} x {z} = {tab * z}')\n",
    "    tab +=1"
   ]
  }
 ],
 "metadata": {
  "kernelspec": {
   "display_name": "Python 3",
   "language": "python",
   "name": "python3"
  },
  "language_info": {
   "codemirror_mode": {
    "name": "ipython",
    "version": 3
   },
   "file_extension": ".py",
   "mimetype": "text/x-python",
   "name": "python",
   "nbconvert_exporter": "python",
   "pygments_lexer": "ipython3",
   "version": "3.12.1"
  }
 },
 "nbformat": 4,
 "nbformat_minor": 2
}
