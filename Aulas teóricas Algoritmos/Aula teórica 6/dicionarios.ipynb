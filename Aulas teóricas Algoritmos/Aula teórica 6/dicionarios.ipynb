{
 "cells": [
  {
   "cell_type": "code",
   "execution_count": 3,
   "metadata": {},
   "outputs": [
    {
     "name": "stdout",
     "output_type": "stream",
     "text": [
      "Tupla:  ('Laptop', 'Smartphone', 'Power Bank', 'Carregadores e cabos')\n",
      "Lista:  ['Laptop', 'Smartphone', 'Power Bank', 'Carregadores e cabos']\n",
      "Dicionário:  {'Laptop': 1, 'Smartphone': 2, 'Power Bank': 3, 'Carregadores e cabos': 4}\n"
     ]
    }
   ],
   "source": [
    "mochila = ('Laptop', 'Smartphone', 'Power Bank', 'Carregadores e cabos')\n",
    "print('Tupla: ', mochila)\n",
    "\n",
    "mochila = ['Laptop', 'Smartphone', 'Power Bank', 'Carregadores e cabos']\n",
    "print('Lista: ', mochila)\n",
    "\n",
    "mochila = {'Laptop':1, 'Smartphone':2, 'Power Bank':3, 'Carregadores e cabos':4}\n",
    "print('Dicionário: ', mochila)"
   ]
  },
  {
   "cell_type": "code",
   "execution_count": 4,
   "metadata": {},
   "outputs": [
    {
     "name": "stdout",
     "output_type": "stream",
     "text": [
      "{'nome': 'Super Mario', 'desenvolvedora': 'Nintendo', 'ano': 1990}\n"
     ]
    }
   ],
   "source": [
    "game = {'nome':'Super Mario',\n",
    "        'desenvolvedora':'Nintendo',\n",
    "        'ano':1990}\n",
    "print(game)"
   ]
  },
  {
   "cell_type": "code",
   "execution_count": 5,
   "metadata": {},
   "outputs": [
    {
     "name": "stdout",
     "output_type": "stream",
     "text": [
      "Super Mario\n",
      "1990\n",
      "Nintendo\n"
     ]
    }
   ],
   "source": [
    "print(game['nome'])\n",
    "print(game['ano'])\n",
    "print(game['desenvolvedora'])"
   ]
  },
  {
   "cell_type": "code",
   "execution_count": 7,
   "metadata": {},
   "outputs": [
    {
     "name": "stdout",
     "output_type": "stream",
     "text": [
      "dict_values(['Super Mario', 'Nintendo', 1990])\n",
      "dict_keys(['nome', 'desenvolvedora', 'ano'])\n"
     ]
    }
   ],
   "source": [
    "print(game.values())\n",
    "print(game.keys())"
   ]
  },
  {
   "cell_type": "code",
   "execution_count": 8,
   "metadata": {},
   "outputs": [
    {
     "name": "stdout",
     "output_type": "stream",
     "text": [
      "Super Mario\n",
      "Nintendo\n",
      "1990\n"
     ]
    }
   ],
   "source": [
    "#iterando\n",
    "for values in game.values():\n",
    "    print(values)"
   ]
  },
  {
   "cell_type": "code",
   "execution_count": 9,
   "metadata": {},
   "outputs": [
    {
     "name": "stdout",
     "output_type": "stream",
     "text": [
      "nome\n",
      "desenvolvedora\n",
      "ano\n"
     ]
    }
   ],
   "source": [
    "#iterando\n",
    "for keys in game.keys():\n",
    "    print(keys)"
   ]
  },
  {
   "cell_type": "code",
   "execution_count": 10,
   "metadata": {},
   "outputs": [
    {
     "name": "stdout",
     "output_type": "stream",
     "text": [
      "nome = Super Mario\n",
      "desenvolvedora = Nintendo\n",
      "ano = 1990\n"
     ]
    }
   ],
   "source": [
    "for keys,values in game.items():\n",
    "    print(f'{keys} = {values}')"
   ]
  },
  {
   "cell_type": "markdown",
   "metadata": {},
   "source": [
    "Lista com dicionarios dentro"
   ]
  },
  {
   "cell_type": "code",
   "execution_count": 12,
   "metadata": {},
   "outputs": [
    {
     "name": "stdout",
     "output_type": "stream",
     "text": [
      "[{'nome': 'Super Mario', 'video game': 'Super Nintendo', 'ano': 1990}, {'nome': 'Zelda Ocarina of Time', 'video game': 'Nintendo 64', 'ano': '1998'}, {'nome': 'Pokemon Yellow', 'video game': 'Game Boy', 'ano': '1999'}]\n"
     ]
    }
   ],
   "source": [
    "games = []\n",
    "game1 = {'nome':'Super Mario',\n",
    "         'video game':'Super Nintendo',\n",
    "         'ano':1990}\n",
    "game2 = {'nome':'Zelda Ocarina of Time',\n",
    "         'video game':'Nintendo 64',\n",
    "         'ano':'1998'}\n",
    "game3 = {'nome':'Pokemon Yellow',\n",
    "         'video game':'Game Boy',\n",
    "         'ano':'1999'}\n",
    "\n",
    "games = [game1, game2, game3]\n",
    "print(games)"
   ]
  }
 ],
 "metadata": {
  "kernelspec": {
   "display_name": "Python 3",
   "language": "python",
   "name": "python3"
  },
  "language_info": {
   "codemirror_mode": {
    "name": "ipython",
    "version": 3
   },
   "file_extension": ".py",
   "mimetype": "text/x-python",
   "name": "python",
   "nbconvert_exporter": "python",
   "pygments_lexer": "ipython3",
   "version": "3.12.1"
  }
 },
 "nbformat": 4,
 "nbformat_minor": 2
}
