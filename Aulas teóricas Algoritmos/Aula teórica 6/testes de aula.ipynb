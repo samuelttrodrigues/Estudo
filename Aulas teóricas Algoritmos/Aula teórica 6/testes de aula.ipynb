{
 "cells": [
  {
   "cell_type": "code",
   "execution_count": 3,
   "metadata": {},
   "outputs": [
    {
     "name": "stdout",
     "output_type": "stream",
     "text": [
      "('Machado', 'Camisa', 'Bacon', 'Abacate')\n"
     ]
    }
   ],
   "source": [
    "mochila = ('Machado', 'Camisa', 'Bacon', 'Abacate' ) #Tupla sendo criada\n",
    "print(mochila)"
   ]
  },
  {
   "cell_type": "code",
   "execution_count": 6,
   "metadata": {},
   "outputs": [
    {
     "name": "stdout",
     "output_type": "stream",
     "text": [
      "Machado\n",
      "('Machado', 'Camisa')\n",
      "('Bacon', 'Abacate')\n"
     ]
    }
   ],
   "source": [
    "print (mochila[0]) # print do primeiro elemento - indice 0\n",
    "print (mochila[0:2]) # print do primeiro e segundo elemento. Indice 0 e 1\n",
    "print (mochila[2:]) #print dos elementos a partir do indice 2"
   ]
  },
  {
   "cell_type": "code",
   "execution_count": 7,
   "metadata": {},
   "outputs": [
    {
     "name": "stdout",
     "output_type": "stream",
     "text": [
      "Na minha mochila tem: Machado\n",
      "Na minha mochila tem: Camisa\n",
      "Na minha mochila tem: Bacon\n",
      "Na minha mochila tem: Abacate\n"
     ]
    }
   ],
   "source": [
    "for item in mochila:\n",
    "    print(f'Na minha mochila tem: {item}')"
   ]
  },
  {
   "cell_type": "code",
   "execution_count": 8,
   "metadata": {},
   "outputs": [
    {
     "name": "stdout",
     "output_type": "stream",
     "text": [
      "Na minha mochila tem: Machado\n",
      "Na minha mochila tem: Camisa\n",
      "Na minha mochila tem: Bacon\n",
      "Na minha mochila tem: Abacate\n"
     ]
    }
   ],
   "source": [
    "tam = len(mochila)\n",
    "for i in range (0, tam, 1):\n",
    "    print(f'Na minha mochila tem: {mochila[i]}')"
   ]
  },
  {
   "cell_type": "code",
   "execution_count": 9,
   "metadata": {},
   "outputs": [
    {
     "data": {
      "text/plain": [
       "('Machado', 'Camisa', 'Bacon', 'Abacate', 'Queijo', 'Canivete')"
      ]
     },
     "execution_count": 9,
     "metadata": {},
     "output_type": "execute_result"
    }
   ],
   "source": [
    "upgrade = ('Queijo', 'Canivete')\n",
    "mochila_melhorada = mochila + upgrade\n",
    "mochila_melhorada"
   ]
  },
  {
   "cell_type": "markdown",
   "metadata": {},
   "source": [
    "Teste com listas"
   ]
  },
  {
   "cell_type": "code",
   "execution_count": 17,
   "metadata": {},
   "outputs": [
    {
     "name": "stdout",
     "output_type": "stream",
     "text": [
      "Lista:  ['Machado', 'Camisa', 'Bacon', 'Abacate']\n"
     ]
    }
   ],
   "source": [
    "bag = ['Machado' , 'Camisa' , 'Bacon', 'Abacate']\n",
    "print ('Lista: ', bag)"
   ]
  },
  {
   "cell_type": "markdown",
   "metadata": {},
   "source": [
    "Por a lista ser mutável, podemos alterar ela"
   ]
  },
  {
   "cell_type": "code",
   "execution_count": 14,
   "metadata": {},
   "outputs": [
    {
     "name": "stdout",
     "output_type": "stream",
     "text": [
      "['Machado', 'Camisa', 'Costelão', 'Abacate']\n"
     ]
    }
   ],
   "source": [
    "bag[2] = 'Costelão'\n",
    "print(bag)"
   ]
  },
  {
   "cell_type": "code",
   "execution_count": 19,
   "metadata": {},
   "outputs": [
    {
     "name": "stdout",
     "output_type": "stream",
     "text": [
      "['Machado', 'Camisa', 'Bacon', 'Abacate', 'Ovos', 'Ovos']\n"
     ]
    }
   ],
   "source": [
    "bag.append('Ovos') #adiciona no final da lista\n",
    "print (bag)"
   ]
  },
  {
   "cell_type": "code",
   "execution_count": 20,
   "metadata": {},
   "outputs": [
    {
     "name": "stdout",
     "output_type": "stream",
     "text": [
      "['Machado', 'Canivete', 'Camisa', 'Bacon', 'Abacate', 'Ovos', 'Ovos']\n"
     ]
    }
   ],
   "source": [
    "bag.insert(1, 'Canivete') #insere no indice informado\n",
    "print(bag)"
   ]
  },
  {
   "cell_type": "code",
   "execution_count": 27,
   "metadata": {},
   "outputs": [
    {
     "name": "stdout",
     "output_type": "stream",
     "text": [
      "['Machado', 'Canivete', 'Camisa', 'Bacon']\n",
      "Bag sem caniveto:  ['Machado', 'Camisa', 'Bacon']\n"
     ]
    }
   ],
   "source": [
    "del bag[-1] #remove o ultimo indice (removidos abacate, ovos, ovos)\n",
    "print (bag)\n",
    "\n",
    "bag.remove('Canivete')\n",
    "print('Bag sem caniveto: ', bag)"
   ]
  },
  {
   "cell_type": "markdown",
   "metadata": {},
   "source": [
    "Cópia de listas"
   ]
  },
  {
   "cell_type": "code",
   "execution_count": 28,
   "metadata": {},
   "outputs": [
    {
     "name": "stdout",
     "output_type": "stream",
     "text": [
      "[5, 7, 9, 11]\n",
      "[5, 7, 9, 11]\n"
     ]
    }
   ],
   "source": [
    "lista_original = [5,7,9,11]  #espaço criado e dedicado na memoria para a lista\n",
    "lista_referenciada = lista_original # Espaço não é criado, somente contem o endereço da variavel original que possuí os dados. \n",
    "print(lista_original)\n",
    "print(lista_referenciada)"
   ]
  },
  {
   "cell_type": "code",
   "execution_count": 30,
   "metadata": {},
   "outputs": [
    {
     "name": "stdout",
     "output_type": "stream",
     "text": [
      "[5, 7, 9, 11]\n",
      "[2, 7, 9, 11]\n"
     ]
    }
   ],
   "source": [
    "lista_original = [5,7,9,11] \n",
    "lista_referenciada = lista_original[:] # assim teremos dois blocos de memórias \n",
    "print(lista_original)\n",
    "lista_referenciada[0] = 2   #apos copiar e alocar a lista original podemos alterar somente uma das listas\n",
    "print(lista_referenciada)"
   ]
  },
  {
   "cell_type": "markdown",
   "metadata": {},
   "source": [
    "Strings dentro de listas"
   ]
  },
  {
   "cell_type": "code",
   "execution_count": 31,
   "metadata": {},
   "outputs": [
    {
     "name": "stdout",
     "output_type": "stream",
     "text": [
      "Machado\n",
      "Camisa\n",
      "Bacon\n",
      "Abacate\n"
     ]
    }
   ],
   "source": [
    "mochila = ['Machado', 'Camisa','Bacon','Abacate']\n",
    "for item in mochila:\n",
    "    for letra in item:\n",
    "        print(letra, end='')\n",
    "    print()"
   ]
  },
  {
   "cell_type": "code",
   "execution_count": 32,
   "metadata": {},
   "outputs": [
    {
     "name": "stdout",
     "output_type": "stream",
     "text": [
      "Machado\n",
      "Camisa\n",
      "Bacon\n",
      "Abacate\n"
     ]
    }
   ],
   "source": [
    "mochila = ['Machado', 'Camisa','Bacon','Abacate']\n",
    "for i in range(0,len(mochila),1):\n",
    "    for j in range(0,len(mochila[i]),1):\n",
    "        print(mochila[i][j], end='')\n",
    "    print()"
   ]
  },
  {
   "cell_type": "markdown",
   "metadata": {},
   "source": [
    "Dicionarios"
   ]
  },
  {
   "cell_type": "code",
   "execution_count": 36,
   "metadata": {},
   "outputs": [
    {
     "name": "stdout",
     "output_type": "stream",
     "text": [
      "{'nome': 'Super Mario', 'desenvolvedora': 'Nintendo', 'ano': 1990}\n"
     ]
    }
   ],
   "source": [
    "game = {'nome':'Super Mario',\n",
    "        'desenvolvedora':'Nintendo',\n",
    "        'ano':1990}\n",
    "print(game)"
   ]
  },
  {
   "cell_type": "code",
   "execution_count": 38,
   "metadata": {},
   "outputs": [
    {
     "name": "stdout",
     "output_type": "stream",
     "text": [
      "Super Mario\n",
      "1990\n",
      "Nintendo\n"
     ]
    }
   ],
   "source": [
    "print(game['nome'])\n",
    "print(game['ano'])\n",
    "print(game['desenvolvedora'])"
   ]
  },
  {
   "cell_type": "markdown",
   "metadata": {},
   "source": [
    "Pegar somente os valores"
   ]
  },
  {
   "cell_type": "code",
   "execution_count": 39,
   "metadata": {},
   "outputs": [
    {
     "name": "stdout",
     "output_type": "stream",
     "text": [
      "dict_values(['Super Mario', 'Nintendo', 1990])\n"
     ]
    }
   ],
   "source": [
    "print(game.values())"
   ]
  },
  {
   "cell_type": "markdown",
   "metadata": {},
   "source": [
    "Pegar somente as \"keys\""
   ]
  },
  {
   "cell_type": "code",
   "execution_count": 40,
   "metadata": {},
   "outputs": [
    {
     "name": "stdout",
     "output_type": "stream",
     "text": [
      "dict_keys(['nome', 'desenvolvedora', 'ano'])\n"
     ]
    }
   ],
   "source": [
    "print(game.keys())"
   ]
  },
  {
   "cell_type": "code",
   "execution_count": 42,
   "metadata": {},
   "outputs": [
    {
     "name": "stdout",
     "output_type": "stream",
     "text": [
      "100\n",
      "200\n",
      "300\n",
      "400\n",
      "500\n",
      "600\n",
      "700\n",
      "800\n",
      "900\n"
     ]
    }
   ],
   "source": [
    "i = 100\n",
    "while (i <= 100):\n",
    "    print(i)\n",
    "    i += 100"
   ]
  },
  {
   "cell_type": "code",
   "execution_count": 44,
   "metadata": {},
   "outputs": [
    {
     "name": "stdout",
     "output_type": "stream",
     "text": [
      "88\n",
      "84\n",
      "80\n",
      "76\n",
      "72\n",
      "68\n",
      "64\n",
      "60\n",
      "56\n",
      "52\n",
      "48\n",
      "44\n",
      "40\n",
      "36\n",
      "32\n",
      "28\n",
      "24\n",
      "20\n",
      "16\n",
      "12\n",
      "8\n",
      "4\n",
      "0\n"
     ]
    }
   ],
   "source": [
    "for i in range (88, -1, -4):\n",
    "    print(i)"
   ]
  },
  {
   "cell_type": "code",
   "execution_count": 45,
   "metadata": {},
   "outputs": [
    {
     "name": "stdout",
     "output_type": "stream",
     "text": [
      "88\n",
      "84\n",
      "80\n",
      "76\n",
      "72\n",
      "68\n",
      "64\n",
      "60\n",
      "56\n",
      "52\n",
      "48\n",
      "44\n",
      "40\n",
      "36\n",
      "32\n",
      "28\n",
      "24\n",
      "20\n",
      "16\n",
      "12\n",
      "8\n",
      "4\n",
      "0\n"
     ]
    }
   ],
   "source": [
    "i = 88\n",
    "while i >= 0:\n",
    "    print(i)\n",
    "    i -= 4"
   ]
  }
 ],
 "metadata": {
  "kernelspec": {
   "display_name": "Python 3",
   "language": "python",
   "name": "python3"
  },
  "language_info": {
   "codemirror_mode": {
    "name": "ipython",
    "version": 3
   },
   "file_extension": ".py",
   "mimetype": "text/x-python",
   "name": "python",
   "nbconvert_exporter": "python",
   "pygments_lexer": "ipython3",
   "version": "3.12.1"
  }
 },
 "nbformat": 4,
 "nbformat_minor": 2
}
