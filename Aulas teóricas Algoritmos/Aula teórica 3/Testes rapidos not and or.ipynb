{
 "cells": [
  {
   "cell_type": "code",
   "execution_count": 1,
   "metadata": {},
   "outputs": [
    {
     "name": "stdout",
     "output_type": "stream",
     "text": [
      "Seu segundo número é maior que o segundo\n"
     ]
    }
   ],
   "source": [
    "x = int(input('Escreva seu primeiro número: '))\n",
    "y = int(input('Escreva seu segundo número: '))\n",
    "if (x > y):\n",
    "    print('Seu primeiro número é maior que o segundo!')\n",
    "if (x < y):\n",
    "    print('Seu segundo número é maior que o primeiro')"
   ]
  },
  {
   "cell_type": "markdown",
   "metadata": {},
   "source": [
    "Esse exemplo é meio redundante pois só se sabia da condicional simples até esse ponto"
   ]
  },
  {
   "cell_type": "code",
   "execution_count": 5,
   "metadata": {},
   "outputs": [
    {
     "name": "stdout",
     "output_type": "stream",
     "text": [
      "Seu segundo número é maior que o primeiro\n"
     ]
    }
   ],
   "source": [
    "x = int(input('Escreva seu primeiro número: '))\n",
    "y = int(input('Escreva seu segundo número: '))\n",
    "if (x > y):\n",
    "    print('Seu primeiro número é maior que o segundo!')\n",
    "else:\n",
    "    print('Seu segundo número é maior que o primeiro')"
   ]
  },
  {
   "cell_type": "markdown",
   "metadata": {},
   "source": [
    "Dessa forma o desempenho do nosso algoritmo é melhorado (Diminui a quantidade de cálculos que o computador precisa realizar para a atividade)"
   ]
  },
  {
   "cell_type": "markdown",
   "metadata": {},
   "source": [
    "Desenvolva um programa que leia um valor inteiro e descubra se ele é par ou ímpar"
   ]
  },
  {
   "cell_type": "code",
   "execution_count": 11,
   "metadata": {},
   "outputs": [
    {
     "name": "stdout",
     "output_type": "stream",
     "text": [
      "Seu número é par!\n"
     ]
    }
   ],
   "source": [
    "valor = int(input('Escreva um número inteiro (\\\"Sem vírgulas\\\"): '))\n",
    "if (valor % 2 == 0):\n",
    "    print('Seu número é par!')\n",
    "else:\n",
    "    print('Seu número é ímpar!')"
   ]
  },
  {
   "cell_type": "markdown",
   "metadata": {},
   "source": [
    "O símbolo de % nos dá o resto. \n",
    "\"Se o resto da divisão der 0 (Necessariamente um numero par pois esta dividindo por dois)\"\n",
    "Agora, se o resto for de qualquer valor, se trata de um número ímpar"
   ]
  },
  {
   "cell_type": "code",
   "execution_count": 16,
   "metadata": {},
   "outputs": [
    {
     "name": "stdout",
     "output_type": "stream",
     "text": [
      "O número 2 cabe 27 vezes dentro do valor que você inseriu. Deixando um resto de 1.\n"
     ]
    }
   ],
   "source": [
    "valor = int(input('Escreva um número inteiro (Sem vírgulas): '))\n",
    "analise = valor // 2\n",
    "resto = (valor % 2)\n",
    "print(f\"O número 2 cabe {analise} vezes dentro do valor que você inseriu. Deixando um resto de {resto}.\")"
   ]
  },
  {
   "cell_type": "markdown",
   "metadata": {},
   "source": [
    "-----------------------------------------------------------------"
   ]
  },
  {
   "cell_type": "code",
   "execution_count": 24,
   "metadata": {},
   "outputs": [
    {
     "name": "stdout",
     "output_type": "stream",
     "text": [
      "False True\n",
      "True False\n"
     ]
    }
   ],
   "source": [
    "# Exemplo de not\n",
    "x = True\n",
    "y = False\n",
    "print (not x , not y)\n",
    "print (x , y)"
   ]
  },
  {
   "cell_type": "code",
   "execution_count": 3,
   "metadata": {},
   "outputs": [
    {
     "name": "stdout",
     "output_type": "stream",
     "text": [
      "False\n",
      "True\n"
     ]
    }
   ],
   "source": [
    "# Exemplo and\n",
    "x = False\n",
    "y = True\n",
    "print(x and y)\n",
    "# Transformando x utilizando o operador not\n",
    "print(not x and y)\n",
    "\n",
    "# O operador and só ira dar valor verdadeiro quando ambas as partes forem verdadeiras."
   ]
  },
  {
   "cell_type": "code",
   "execution_count": 5,
   "metadata": {},
   "outputs": [
    {
     "name": "stdout",
     "output_type": "stream",
     "text": [
      "False\n",
      "True\n"
     ]
    }
   ],
   "source": [
    "# Exemplo or\n",
    "x = False\n",
    "y = False\n",
    "print(x or y)\n",
    "# Transformando o x com o operador not\n",
    "print(not x or y)\n",
    "# O operador or irá dar valor verdadeiro quando qualquer parte for verdadeira"
   ]
  },
  {
   "cell_type": "markdown",
   "metadata": {},
   "source": [
    "-----------------------------------------------------------------------------------------------"
   ]
  },
  {
   "cell_type": "code",
   "execution_count": 9,
   "metadata": {},
   "outputs": [
    {
     "name": "stdout",
     "output_type": "stream",
     "text": [
      "False\n"
     ]
    }
   ],
   "source": [
    "x = 10\n",
    "y = 1\n",
    "z = 5.5\n",
    "res = x > y and z == y\n",
    "print(res)"
   ]
  },
  {
   "cell_type": "code",
   "execution_count": 20,
   "metadata": {},
   "outputs": [
    {
     "name": "stdout",
     "output_type": "stream",
     "text": [
      "Infelizmente você reprovou de ano.\n"
     ]
    }
   ],
   "source": [
    "nota_portugues = float(input('Qual sua nota final em português? '))\n",
    "nota_matematica = float(input('Qual sua nota final em matemática? '))\n",
    "nota_fisica = float(input('Qual sua nota final em física?'))\n",
    "if (nota_portugues >= 7.0 and nota_matematica >= 7.0 and nota_fisica >=7):\n",
    "    print('Você foi aprovado de ano!')\n",
    "else:\n",
    "    print('Infelizmente você reprovou de ano.')"
   ]
  }
 ],
 "metadata": {
  "kernelspec": {
   "display_name": "Python 3",
   "language": "python",
   "name": "python3"
  },
  "language_info": {
   "codemirror_mode": {
    "name": "ipython",
    "version": 3
   },
   "file_extension": ".py",
   "mimetype": "text/x-python",
   "name": "python",
   "nbconvert_exporter": "python",
   "pygments_lexer": "ipython3",
   "version": "3.12.1"
  }
 },
 "nbformat": 4,
 "nbformat_minor": 2
}
